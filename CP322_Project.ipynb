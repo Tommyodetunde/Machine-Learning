{
  "cells": [
    {
      "cell_type": "markdown",
      "metadata": {
        "id": "view-in-github",
        "colab_type": "text"
      },
      "source": [
        "<a href=\"https://colab.research.google.com/github/Tommyodetunde/Game/blob/main/CP322_Project.ipynb\" target=\"_parent\"><img src=\"https://colab.research.google.com/assets/colab-badge.svg\" alt=\"Open In Colab\"/></a>"
      ]
    },
    {
      "cell_type": "markdown",
      "metadata": {
        "id": "q-IB_wOvSCqc"
      },
      "source": [
        "## CP322 Final Project"
      ]
    },
    {
      "cell_type": "code",
      "execution_count": null,
      "metadata": {
        "colab": {
          "base_uri": "https://localhost:8080/",
          "height": 92
        },
        "id": "Mu5CHGorbrB4",
        "outputId": "1b3b554d-409d-4ff3-d2b5-fdacc496b18c"
      },
      "outputs": [
        {
          "output_type": "display_data",
          "data": {
            "text/plain": [
              "<IPython.core.display.HTML object>"
            ],
            "text/html": [
              "\n",
              "     <input type=\"file\" id=\"files-7d3d7dc9-8cf8-49f5-809a-6eabb3dab288\" name=\"files[]\" multiple disabled\n",
              "        style=\"border:none\" />\n",
              "     <output id=\"result-7d3d7dc9-8cf8-49f5-809a-6eabb3dab288\">\n",
              "      Upload widget is only available when the cell has been executed in the\n",
              "      current browser session. Please rerun this cell to enable.\n",
              "      </output>\n",
              "      <script>// Copyright 2017 Google LLC\n",
              "//\n",
              "// Licensed under the Apache License, Version 2.0 (the \"License\");\n",
              "// you may not use this file except in compliance with the License.\n",
              "// You may obtain a copy of the License at\n",
              "//\n",
              "//      http://www.apache.org/licenses/LICENSE-2.0\n",
              "//\n",
              "// Unless required by applicable law or agreed to in writing, software\n",
              "// distributed under the License is distributed on an \"AS IS\" BASIS,\n",
              "// WITHOUT WARRANTIES OR CONDITIONS OF ANY KIND, either express or implied.\n",
              "// See the License for the specific language governing permissions and\n",
              "// limitations under the License.\n",
              "\n",
              "/**\n",
              " * @fileoverview Helpers for google.colab Python module.\n",
              " */\n",
              "(function(scope) {\n",
              "function span(text, styleAttributes = {}) {\n",
              "  const element = document.createElement('span');\n",
              "  element.textContent = text;\n",
              "  for (const key of Object.keys(styleAttributes)) {\n",
              "    element.style[key] = styleAttributes[key];\n",
              "  }\n",
              "  return element;\n",
              "}\n",
              "\n",
              "// Max number of bytes which will be uploaded at a time.\n",
              "const MAX_PAYLOAD_SIZE = 100 * 1024;\n",
              "\n",
              "function _uploadFiles(inputId, outputId) {\n",
              "  const steps = uploadFilesStep(inputId, outputId);\n",
              "  const outputElement = document.getElementById(outputId);\n",
              "  // Cache steps on the outputElement to make it available for the next call\n",
              "  // to uploadFilesContinue from Python.\n",
              "  outputElement.steps = steps;\n",
              "\n",
              "  return _uploadFilesContinue(outputId);\n",
              "}\n",
              "\n",
              "// This is roughly an async generator (not supported in the browser yet),\n",
              "// where there are multiple asynchronous steps and the Python side is going\n",
              "// to poll for completion of each step.\n",
              "// This uses a Promise to block the python side on completion of each step,\n",
              "// then passes the result of the previous step as the input to the next step.\n",
              "function _uploadFilesContinue(outputId) {\n",
              "  const outputElement = document.getElementById(outputId);\n",
              "  const steps = outputElement.steps;\n",
              "\n",
              "  const next = steps.next(outputElement.lastPromiseValue);\n",
              "  return Promise.resolve(next.value.promise).then((value) => {\n",
              "    // Cache the last promise value to make it available to the next\n",
              "    // step of the generator.\n",
              "    outputElement.lastPromiseValue = value;\n",
              "    return next.value.response;\n",
              "  });\n",
              "}\n",
              "\n",
              "/**\n",
              " * Generator function which is called between each async step of the upload\n",
              " * process.\n",
              " * @param {string} inputId Element ID of the input file picker element.\n",
              " * @param {string} outputId Element ID of the output display.\n",
              " * @return {!Iterable<!Object>} Iterable of next steps.\n",
              " */\n",
              "function* uploadFilesStep(inputId, outputId) {\n",
              "  const inputElement = document.getElementById(inputId);\n",
              "  inputElement.disabled = false;\n",
              "\n",
              "  const outputElement = document.getElementById(outputId);\n",
              "  outputElement.innerHTML = '';\n",
              "\n",
              "  const pickedPromise = new Promise((resolve) => {\n",
              "    inputElement.addEventListener('change', (e) => {\n",
              "      resolve(e.target.files);\n",
              "    });\n",
              "  });\n",
              "\n",
              "  const cancel = document.createElement('button');\n",
              "  inputElement.parentElement.appendChild(cancel);\n",
              "  cancel.textContent = 'Cancel upload';\n",
              "  const cancelPromise = new Promise((resolve) => {\n",
              "    cancel.onclick = () => {\n",
              "      resolve(null);\n",
              "    };\n",
              "  });\n",
              "\n",
              "  // Wait for the user to pick the files.\n",
              "  const files = yield {\n",
              "    promise: Promise.race([pickedPromise, cancelPromise]),\n",
              "    response: {\n",
              "      action: 'starting',\n",
              "    }\n",
              "  };\n",
              "\n",
              "  cancel.remove();\n",
              "\n",
              "  // Disable the input element since further picks are not allowed.\n",
              "  inputElement.disabled = true;\n",
              "\n",
              "  if (!files) {\n",
              "    return {\n",
              "      response: {\n",
              "        action: 'complete',\n",
              "      }\n",
              "    };\n",
              "  }\n",
              "\n",
              "  for (const file of files) {\n",
              "    const li = document.createElement('li');\n",
              "    li.append(span(file.name, {fontWeight: 'bold'}));\n",
              "    li.append(span(\n",
              "        `(${file.type || 'n/a'}) - ${file.size} bytes, ` +\n",
              "        `last modified: ${\n",
              "            file.lastModifiedDate ? file.lastModifiedDate.toLocaleDateString() :\n",
              "                                    'n/a'} - `));\n",
              "    const percent = span('0% done');\n",
              "    li.appendChild(percent);\n",
              "\n",
              "    outputElement.appendChild(li);\n",
              "\n",
              "    const fileDataPromise = new Promise((resolve) => {\n",
              "      const reader = new FileReader();\n",
              "      reader.onload = (e) => {\n",
              "        resolve(e.target.result);\n",
              "      };\n",
              "      reader.readAsArrayBuffer(file);\n",
              "    });\n",
              "    // Wait for the data to be ready.\n",
              "    let fileData = yield {\n",
              "      promise: fileDataPromise,\n",
              "      response: {\n",
              "        action: 'continue',\n",
              "      }\n",
              "    };\n",
              "\n",
              "    // Use a chunked sending to avoid message size limits. See b/62115660.\n",
              "    let position = 0;\n",
              "    do {\n",
              "      const length = Math.min(fileData.byteLength - position, MAX_PAYLOAD_SIZE);\n",
              "      const chunk = new Uint8Array(fileData, position, length);\n",
              "      position += length;\n",
              "\n",
              "      const base64 = btoa(String.fromCharCode.apply(null, chunk));\n",
              "      yield {\n",
              "        response: {\n",
              "          action: 'append',\n",
              "          file: file.name,\n",
              "          data: base64,\n",
              "        },\n",
              "      };\n",
              "\n",
              "      let percentDone = fileData.byteLength === 0 ?\n",
              "          100 :\n",
              "          Math.round((position / fileData.byteLength) * 100);\n",
              "      percent.textContent = `${percentDone}% done`;\n",
              "\n",
              "    } while (position < fileData.byteLength);\n",
              "  }\n",
              "\n",
              "  // All done.\n",
              "  yield {\n",
              "    response: {\n",
              "      action: 'complete',\n",
              "    }\n",
              "  };\n",
              "}\n",
              "\n",
              "scope.google = scope.google || {};\n",
              "scope.google.colab = scope.google.colab || {};\n",
              "scope.google.colab._files = {\n",
              "  _uploadFiles,\n",
              "  _uploadFilesContinue,\n",
              "};\n",
              "})(self);\n",
              "</script> "
            ]
          },
          "metadata": {}
        },
        {
          "output_type": "stream",
          "name": "stdout",
          "text": [
            "Saving car.data to car.data\n",
            "User uploaded file \"car.data\" with length 51916 bytes\n"
          ]
        }
      ],
      "source": [
        "from google.colab import files\n",
        "\n",
        "uploaded = files.upload()\n",
        "\n",
        "for fn in uploaded.keys():\n",
        "  print('User uploaded file \"{name}\" with length {length} bytes'.format(\n",
        "      name=fn, length=len(uploaded[fn])))"
      ]
    },
    {
      "cell_type": "markdown",
      "metadata": {
        "id": "xyWwm1RESeIN"
      },
      "source": [
        "Report: https://docs.google.com/document/d/1voiHl5IFIeswMA8kFqHJroYCtfZKcXnbXOSF94Ume6c/edit"
      ]
    },
    {
      "cell_type": "markdown",
      "metadata": {
        "id": "tVVSVP8_Ti6f"
      },
      "source": [
        "Dataset: https://archive.ics.uci.edu/ml/datasets/Car+Evaluation"
      ]
    },
    {
      "cell_type": "code",
      "execution_count": null,
      "metadata": {
        "id": "Uq2HZOKUUdcR"
      },
      "outputs": [],
      "source": [
        "#Import libraries\n",
        "import numpy as np\n",
        "from sklearn.pipeline import Pipeline\n",
        "from sklearn.feature_extraction.text import CountVectorizer\n",
        "from sklearn.feature_extraction.text import TfidfTransformer\n",
        "from sklearn.linear_model import LinearRegression, LogisticRegression\n",
        "from sklearn.neighbors import KNeighborsClassifier\n",
        "import nltk\n",
        "import re\n",
        "from sklearn.datasets import load_files\n",
        "from sklearn.model_selection import train_test_split\n",
        "import urllib\n",
        "import pandas as pd \n",
        "import seaborn as sns\n",
        "import matplotlib.pyplot as plt\n",
        "from sklearn.metrics import accuracy_score, recall_score, precision_score\n",
        "from time import time"
      ]
    },
    {
      "cell_type": "code",
      "execution_count": null,
      "metadata": {
        "colab": {
          "base_uri": "https://localhost:8080/"
        },
        "id": "0GHkvRcrUkvE",
        "outputId": "cdca7d92-833d-41d1-9c4d-d7b4f0bfe2e4"
      },
      "outputs": [
        {
          "output_type": "stream",
          "name": "stdout",
          "text": [
            "<class 'pandas.core.frame.DataFrame'>\n",
            "RangeIndex: 1728 entries, 0 to 1727\n",
            "Data columns (total 7 columns):\n",
            " #   Column    Non-Null Count  Dtype \n",
            "---  ------    --------------  ----- \n",
            " 0   buying    1728 non-null   object\n",
            " 1   maint     1728 non-null   object\n",
            " 2   doors     1728 non-null   object\n",
            " 3   persons   1728 non-null   object\n",
            " 4   lug_boot  1728 non-null   object\n",
            " 5   safety    1728 non-null   object\n",
            " 6   class     1728 non-null   object\n",
            "dtypes: object(7)\n",
            "memory usage: 94.6+ KB\n"
          ]
        }
      ],
      "source": [
        "car_data = pd.read_csv(\"car.data\")\n",
        "car_data.columns = ['buying' , 'maint', 'doors' , 'persons','lug_boot','safety','class']\n",
        "\n",
        "car_data.info()\n",
        "\n"
      ]
    },
    {
      "cell_type": "markdown",
      "metadata": {
        "id": "AzZ1WkcsSpth"
      },
      "source": [
        "**Data Preprocessing**"
      ]
    },
    {
      "cell_type": "code",
      "execution_count": null,
      "metadata": {
        "colab": {
          "base_uri": "https://localhost:8080/",
          "height": 1000
        },
        "id": "eEewp0VNSHr4",
        "outputId": "3cf86489-272f-47cc-a8fc-4949b4f5bf9d"
      },
      "outputs": [
        {
          "output_type": "stream",
          "name": "stdout",
          "text": [
            "<class 'pandas.core.frame.DataFrame'>\n",
            "RangeIndex: 1728 entries, 0 to 1727\n",
            "Data columns (total 7 columns):\n",
            " #   Column    Non-Null Count  Dtype\n",
            "---  ------    --------------  -----\n",
            " 0   buying    1728 non-null   int64\n",
            " 1   maint     1728 non-null   int64\n",
            " 2   doors     1728 non-null   int64\n",
            " 3   persons   1728 non-null   int64\n",
            " 4   lug_boot  1728 non-null   int64\n",
            " 5   safety    1728 non-null   int64\n",
            " 6   class     1728 non-null   int64\n",
            "dtypes: int64(7)\n",
            "memory usage: 94.6 KB\n",
            "\n",
            "Median:\n",
            " buying      2.5\n",
            "maint       2.5\n",
            "doors       3.5\n",
            "persons     4.0\n",
            "lug_boot    2.0\n",
            "safety      2.0\n",
            "class       1.0\n",
            "dtype: float64\n",
            "\n",
            "Mode:\n",
            "    buying  maint  doors  persons  lug_boot  safety  class\n",
            "0       1      1      2      2.0       1.0     1.0    1.0\n",
            "1       2      2      3      4.0       2.0     2.0    NaN\n",
            "2       3      3      4      5.0       3.0     3.0    NaN\n",
            "3       4      4      5      NaN       NaN     NaN    NaN\n",
            "\n",
            "Mean:\n",
            " buying      2.500000\n",
            "maint       2.500000\n",
            "doors       3.500000\n",
            "persons     3.666667\n",
            "lug_boot    2.000000\n",
            "safety      2.000000\n",
            "class       1.414931\n",
            "dtype: float64\n"
          ]
        },
        {
          "output_type": "execute_result",
          "data": {
            "text/plain": [
              "(1728, 7)"
            ]
          },
          "metadata": {},
          "execution_count": 8
        },
        {
          "output_type": "display_data",
          "data": {
            "text/plain": [
              "<Figure size 1296x720 with 6 Axes>"
            ],
            "image/png": "[encoded data removed]"
          },
          "metadata": {
            "needs_background": "light"
          }
        }
      ],
      "source": [
        "figure, plotfeature = plt.subplots(3, 2, figsize = (18, 10))\n",
        "plt.subplots_adjust(hspace = 0.5)\n",
        "\n",
        "figure.suptitle('Distributions of Features Based on Class', y = 0.9, fontsize = 12)\n",
        "\n",
        "for attribute, col in enumerate(car_data.columns[:-1]):\n",
        "  sns.countplot(data = car_data, x = 'class', hue = col, ax = plotfeature.flat[attribute], palette = 'Paired');\n",
        "\n",
        "sns.despine()\n",
        "car_data = car_data.replace({'doors':{'2':2,'3':3,'4':4,'5more':5}})\n",
        "car_data = car_data.replace({'persons':{'2':2,'4':4,'more':5}})\n",
        "car_data = car_data.replace({'class':{'unacc':1,'acc':2,'good':3,'vgood':4}})\n",
        "car_data = car_data.replace({'buying':{'low':1,'med':2,'high':3,'vhigh':4}})\n",
        "car_data = car_data.replace({'maint':{'low':1,'med':2,'high':3,'vhigh':4}})\n",
        "car_data = car_data.replace({'safety':{'low':1,'med':2,'high':3}})\n",
        "car_data = car_data.replace({'lug_boot':{'small':1,'med':2,'big':3}})\n",
        "car_data.info()\n",
        "car_data.shape"
      ]
    },
    {
      "cell_type": "markdown",
      "metadata": {
        "id": "nPIsDuDCS7lJ"
      },
      "source": [
        "**Visualization of Preprocessing**"
      ]
    },
    {
      "cell_type": "code",
      "execution_count": null,
      "metadata": {
        "colab": {
          "base_uri": "https://localhost:8080/",
          "height": 379
        },
        "id": "0ucDBQsrTDLz",
        "outputId": "e6a82277-ebca-456e-bc04-ccfaf0990fd4"
      },
      "outputs": [
        {
          "output_type": "display_data",
          "data": {
            "text/plain": [
              "<Figure size 1152x432 with 2 Axes>"
            ],
            "image/png": "[encoded data removed]"
          },
          "metadata": {
            "needs_background": "light"
          }
        }
      ],
      "source": [
        "# sns.pairplot(car_data)\n",
        "# car_data.corr()\n",
        "plt.figure(figsize=(16, 6))\n",
        "heatmap = sns.heatmap(car_data.corr(), vmin=-1, vmax=1, annot=True)\n",
        "# sns.heatmap(car_data.corr())\n",
        "# car_data.hist(bins=5,figsize=(20,15))\n"
      ]
    },
    {
      "cell_type": "markdown",
      "metadata": {
        "id": "suu6EpFeTD_-"
      },
      "source": [
        "**Data Quality Report**"
      ]
    },
    {
      "cell_type": "code",
      "execution_count": null,
      "metadata": {
        "id": "DHRfQDrhS6Qm",
        "colab": {
          "base_uri": "https://localhost:8080/"
        },
        "outputId": "509acd2b-d216-4d2d-ecf6-74675b0b6190"
      },
      "outputs": [
        {
          "output_type": "stream",
          "name": "stdout",
          "text": [
            "         Data Type Unique Values\n",
            "buying       int64             4\n",
            "maint        int64             4\n",
            "doors        int64             4\n",
            "persons      int64             3\n",
            "lug_boot     int64             3\n",
            "safety       int64             3\n",
            "class        int64             4\n",
            "\n",
            "Median:\n",
            "buying      2.5\n",
            "maint       2.5\n",
            "doors       3.5\n",
            "persons     4.0\n",
            "lug_boot    2.0\n",
            "safety      2.0\n",
            "class       1.0\n",
            "dtype: float64\n",
            "\n",
            "Mode:\n",
            "\n",
            "   buying  maint  doors  persons  lug_boot  safety  class\n",
            "0       1      1      2      2.0       1.0     1.0    1.0\n",
            "1       2      2      3      4.0       2.0     2.0    NaN\n",
            "2       3      3      4      5.0       3.0     3.0    NaN\n",
            "3       4      4      5      NaN       NaN     NaN    NaN\n",
            "\n",
            "Mean:\n",
            "\n",
            "buying      2.500000\n",
            "maint       2.500000\n",
            "doors       3.500000\n",
            "persons     3.666667\n",
            "lug_boot    2.000000\n",
            "safety      2.000000\n",
            "class       1.414931\n",
            "dtype: float64\n"
          ]
        }
      ],
      "source": [
        "data_types = pd.DataFrame(\n",
        "    car_data.dtypes,\n",
        "    columns=['Data Type']\n",
        ")\n",
        "\n",
        "unique_values = pd.DataFrame(\n",
        "    columns=['Unique Values'])\n",
        "\n",
        "for row in list(car_data.columns.values):\n",
        "    unique_values.loc[row] = [car_data[row].nunique()]\n",
        "\n",
        "quality_report = data_types.join(unique_values)\n",
        "print(quality_report)\n",
        "\n",
        "print(\"\\nMedian:\")\n",
        "print(car_data.median())\n",
        "print(\"\\nMode:\\n\")\n",
        "print(car_data.mode())\n",
        "print(\"\\nMean:\\n\")\n",
        "print(car_data.mean())\n",
        "#Each one of the unique values is attributes for our features"
      ]
    },
    {
      "cell_type": "markdown",
      "metadata": {
        "id": "44KbygKtTJak"
      },
      "source": [
        "**Model Selection - LogisticRegression**"
      ]
    },
    {
      "cell_type": "code",
      "execution_count": null,
      "metadata": {
        "id": "2k4iJporTPhT",
        "colab": {
          "base_uri": "https://localhost:8080/"
        },
        "outputId": "9edde61b-0727-4cfc-9286-9e217f5ceb5a"
      },
      "outputs": [
        {
          "output_type": "execute_result",
          "data": {
            "text/plain": [
              "LogisticRegression(max_iter=1000)"
            ]
          },
          "metadata": {},
          "execution_count": 12
        }
      ],
      "source": [
        "features = car_data.loc[:, 'buying':'safety']\n",
        "target = car_data['class']\n",
        "\n",
        "\n",
        "X_train, X_test, y_train, y_test = train_test_split(features, target, test_size=0.2, random_state=42)\n",
        "model = LogisticRegression(max_iter=1000, solver='lbfgs')\n",
        "\n",
        "model.fit(X_train, y_train)"
      ]
    },
    {
      "cell_type": "markdown",
      "source": [
        "**Model Selection - KNN**"
      ],
      "metadata": {
        "id": "0Dqzexnxk8FI"
      }
    },
    {
      "cell_type": "code",
      "source": [
        "featuresForSecondModel = car_data.loc[:, 'buying':'safety']\n",
        "targetForSecondModel = car_data['class']\n",
        "\n",
        "\n",
        "X2_train, X2_test, y2_train, y2_test = train_test_split(features, target, test_size=0.2, random_state=42)\n",
        "knnModel = KNeighborsClassifier(n_neighbors = 5)\n",
        "\n",
        "knnModel.fit(X2_train, y2_train)"
      ],
      "metadata": {
        "colab": {
          "base_uri": "https://localhost:8080/"
        },
        "id": "QTB5UE--me_e",
        "outputId": "16bb2830-3d50-4cfb-916c-83b3fd479f1e"
      },
      "execution_count": null,
      "outputs": [
        {
          "output_type": "execute_result",
          "data": {
            "text/plain": [
              "KNeighborsClassifier()"
            ]
          },
          "metadata": {},
          "execution_count": 28
        }
      ]
    },
    {
      "cell_type": "markdown",
      "metadata": {
        "id": "V7VfGhQVTP-Y"
      },
      "source": [
        "**Model Evaluation, Performance and Results**"
      ]
    },
    {
      "cell_type": "code",
      "execution_count": null,
      "metadata": {
        "id": "5PkY7YDVTS3a",
        "colab": {
          "base_uri": "https://localhost:8080/"
        },
        "outputId": "aaceeb78-0002-4483-9f26-f76d7440b9a5"
      },
      "outputs": [
        {
          "output_type": "stream",
          "name": "stdout",
          "text": [
            "Logistical: \n",
            "Accuracy:  0.835\n",
            "Precision:  0.827\n",
            "Recall:  0.835\n",
            "Latency:  2.223 ms\n",
            "\n",
            "K-nearest neighbors: \n",
            "Accuracy:  0.951\n",
            "Precision:  0.952\n",
            "Recall:  0.951\n",
            "Latency:  16.499 ms\n"
          ]
        }
      ],
      "source": [
        "def predictLogistical():\n",
        "  start = time()\n",
        "  y_pred = model.predict(X_test)\n",
        "  end = time()\n",
        "  print(\"Accuracy: \", round(accuracy_score(y_test, y_pred), 3))\n",
        "  print(\"Precision: \", round(precision_score(y_test, y_pred, average='weighted'), 3))\n",
        "  print(\"Recall: \", round(recall_score(y_test, y_pred, average='weighted'), 3))\n",
        "  print(\"Latency: \", round((end-start) * 1000, 3), \"ms\\n\")\n",
        "\n",
        "def predictKNN():\n",
        "  start = time()\n",
        "  y2_pred = knnModel.predict(X_test)\n",
        "  end = time()\n",
        "  print(\"Accuracy: \", round(accuracy_score(y2_test, y2_pred), 3))\n",
        "  print(\"Precision: \", round(precision_score(y2_test, y2_pred, average='weighted'), 3))\n",
        "  print(\"Recall: \", round(recall_score(y2_test, y2_pred, average='weighted'), 3))\n",
        "  print(\"Latency: \", round((end-start) * 1000, 3), \"ms\")\n",
        "\n",
        "print(\"Logistical: \" )\n",
        "predictLogistical()\n",
        "print(\"K-nearest neighbors: \")\n",
        "predictKNN()\n",
        "\n"
      ]
    },
    {
      "cell_type": "markdown",
      "source": [],
      "metadata": {
        "id": "AJKcluBT3vWJ"
      }
    }
  ],
  "metadata": {
    "colab": {
      "provenance": [],
      "include_colab_link": true
    },
    "kernelspec": {
      "display_name": "Python 3",
      "name": "python3"
    },
    "language_info": {
      "name": "python"
    }
  },
  "nbformat": 4,
  "nbformat_minor": 0
}